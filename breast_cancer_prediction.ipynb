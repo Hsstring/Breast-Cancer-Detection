{
  "nbformat": 4,
  "nbformat_minor": 0,
  "metadata": {
    "colab": {
      "provenance": []
    },
    "kernelspec": {
      "name": "python3",
      "display_name": "Python 3"
    },
    "language_info": {
      "name": "python"
    }
  },
  "cells": [
    {
      "cell_type": "markdown",
      "source": [
        "#ُStep1: Importing Required Libraries"
      ],
      "metadata": {
        "id": "KXI-3P1coBK5"
      }
    },
    {
      "cell_type": "code",
      "source": [
        "!pip install pandas numpy matplotlib scikit-learn keras imbalanced-learn mpld3"
      ],
      "metadata": {
        "colab": {
          "base_uri": "https://localhost:8080/"
        },
        "id": "h56Z_9Wqos4Z",
        "outputId": "2307e5f7-d20e-4953-f85a-cfc4985145c2"
      },
      "execution_count": null,
      "outputs": [
        {
          "output_type": "stream",
          "name": "stdout",
          "text": [
            "Requirement already satisfied: pandas in /usr/local/lib/python3.11/dist-packages (2.2.2)\n",
            "Requirement already satisfied: numpy in /usr/local/lib/python3.11/dist-packages (1.26.4)\n",
            "Requirement already satisfied: matplotlib in /usr/local/lib/python3.11/dist-packages (3.10.0)\n",
            "Requirement already satisfied: scikit-learn in /usr/local/lib/python3.11/dist-packages (1.6.1)\n",
            "Requirement already satisfied: keras in /usr/local/lib/python3.11/dist-packages (3.8.0)\n",
            "Requirement already satisfied: imbalanced-learn in /usr/local/lib/python3.11/dist-packages (0.13.0)\n",
            "Collecting mpld3\n",
            "  Downloading mpld3-0.5.10-py3-none-any.whl.metadata (5.1 kB)\n",
            "Requirement already satisfied: python-dateutil>=2.8.2 in /usr/local/lib/python3.11/dist-packages (from pandas) (2.8.2)\n",
            "Requirement already satisfied: pytz>=2020.1 in /usr/local/lib/python3.11/dist-packages (from pandas) (2024.2)\n",
            "Requirement already satisfied: tzdata>=2022.7 in /usr/local/lib/python3.11/dist-packages (from pandas) (2025.1)\n",
            "Requirement already satisfied: contourpy>=1.0.1 in /usr/local/lib/python3.11/dist-packages (from matplotlib) (1.3.1)\n",
            "Requirement already satisfied: cycler>=0.10 in /usr/local/lib/python3.11/dist-packages (from matplotlib) (0.12.1)\n",
            "Requirement already satisfied: fonttools>=4.22.0 in /usr/local/lib/python3.11/dist-packages (from matplotlib) (4.55.7)\n",
            "Requirement already satisfied: kiwisolver>=1.3.1 in /usr/local/lib/python3.11/dist-packages (from matplotlib) (1.4.8)\n",
            "Requirement already satisfied: packaging>=20.0 in /usr/local/lib/python3.11/dist-packages (from matplotlib) (24.2)\n",
            "Requirement already satisfied: pillow>=8 in /usr/local/lib/python3.11/dist-packages (from matplotlib) (11.1.0)\n",
            "Requirement already satisfied: pyparsing>=2.3.1 in /usr/local/lib/python3.11/dist-packages (from matplotlib) (3.2.1)\n",
            "Requirement already satisfied: scipy>=1.6.0 in /usr/local/lib/python3.11/dist-packages (from scikit-learn) (1.13.1)\n",
            "Requirement already satisfied: joblib>=1.2.0 in /usr/local/lib/python3.11/dist-packages (from scikit-learn) (1.4.2)\n",
            "Requirement already satisfied: threadpoolctl>=3.1.0 in /usr/local/lib/python3.11/dist-packages (from scikit-learn) (3.5.0)\n",
            "Requirement already satisfied: absl-py in /usr/local/lib/python3.11/dist-packages (from keras) (1.4.0)\n",
            "Requirement already satisfied: rich in /usr/local/lib/python3.11/dist-packages (from keras) (13.9.4)\n",
            "Requirement already satisfied: namex in /usr/local/lib/python3.11/dist-packages (from keras) (0.0.8)\n",
            "Requirement already satisfied: h5py in /usr/local/lib/python3.11/dist-packages (from keras) (3.12.1)\n",
            "Requirement already satisfied: optree in /usr/local/lib/python3.11/dist-packages (from keras) (0.14.0)\n",
            "Requirement already satisfied: ml-dtypes in /usr/local/lib/python3.11/dist-packages (from keras) (0.4.1)\n",
            "Requirement already satisfied: sklearn-compat<1,>=0.1 in /usr/local/lib/python3.11/dist-packages (from imbalanced-learn) (0.1.3)\n",
            "Requirement already satisfied: jinja2 in /usr/local/lib/python3.11/dist-packages (from mpld3) (3.1.5)\n",
            "Requirement already satisfied: six>=1.5 in /usr/local/lib/python3.11/dist-packages (from python-dateutil>=2.8.2->pandas) (1.17.0)\n",
            "Requirement already satisfied: MarkupSafe>=2.0 in /usr/local/lib/python3.11/dist-packages (from jinja2->mpld3) (3.0.2)\n",
            "Requirement already satisfied: typing-extensions>=4.5.0 in /usr/local/lib/python3.11/dist-packages (from optree->keras) (4.12.2)\n",
            "Requirement already satisfied: markdown-it-py>=2.2.0 in /usr/local/lib/python3.11/dist-packages (from rich->keras) (3.0.0)\n",
            "Requirement already satisfied: pygments<3.0.0,>=2.13.0 in /usr/local/lib/python3.11/dist-packages (from rich->keras) (2.18.0)\n",
            "Requirement already satisfied: mdurl~=0.1 in /usr/local/lib/python3.11/dist-packages (from markdown-it-py>=2.2.0->rich->keras) (0.1.2)\n",
            "Downloading mpld3-0.5.10-py3-none-any.whl (202 kB)\n",
            "\u001b[2K   \u001b[90m━━━━━━━━━━━━━━━━━━━━━━━━━━━━━━━━━━━━━━━━\u001b[0m \u001b[32m202.6/202.6 kB\u001b[0m \u001b[31m3.4 MB/s\u001b[0m eta \u001b[36m0:00:00\u001b[0m\n",
            "\u001b[?25hInstalling collected packages: mpld3\n",
            "Successfully installed mpld3-0.5.10\n"
          ]
        }
      ]
    },
    {
      "cell_type": "code",
      "execution_count": null,
      "metadata": {
        "id": "Sz6Aril5lfsa"
      },
      "outputs": [],
      "source": [
        "import keras\n",
        "import numpy as np #handling datasets.\n",
        "import pandas as pd\n",
        "import matplotlib.pyplot as plt #visualization\n",
        "import matplotlib.gridspec as gridspec\n",
        "import mpld3 as mpl #interactive plots\n",
        "\n",
        "from sklearn.model_selection import train_test_split, KFold #Splits dataset into training & testing.\n",
        "from sklearn.linear_model import LogisticRegression #Different Models\n",
        "from sklearn.naive_bayes import GaussianNB\n",
        "from sklearn.ensemble import RandomForestClassifier, AdaBoostClassifier\n",
        "from sklearn.tree import DecisionTreeClassifier, export_graphviz\n",
        "from sklearn import metrics"
      ]
    },
    {
      "cell_type": "markdown",
      "source": [
        "#Step2: Loading and Preprocessing the Data"
      ],
      "metadata": {
        "id": "DIKTDbjdplPY"
      }
    },
    {
      "cell_type": "code",
      "source": [
        "\n",
        "df = pd.read_csv(r\"/content/data.csv\", header=0)"
      ],
      "metadata": {
        "id": "H6GbI91GokaU"
      },
      "execution_count": null,
      "outputs": []
    },
    {
      "cell_type": "code",
      "source": [
        "df.drop('id', axis=1, inplace=True)\n",
        "df.drop('Unnamed: 32', axis=1, inplace=True)"
      ],
      "metadata": {
        "id": "LUIJDjlhqDyo"
      },
      "execution_count": null,
      "outputs": []
    },
    {
      "cell_type": "markdown",
      "source": [
        "The id column and an unnamed column are removed since they are not useful for prediction.\n",
        "\n",
        "Converting Labels to Numeric Form"
      ],
      "metadata": {
        "id": "PKUgMyr8rmla"
      }
    },
    {
      "cell_type": "code",
      "source": [
        "df['diagnosis'] = df['diagnosis'].map({'M':1, 'B':0})"
      ],
      "metadata": {
        "id": "LaW8MtNRqP-A"
      },
      "execution_count": null,
      "outputs": []
    },
    {
      "cell_type": "markdown",
      "source": [
        "#Step3: Exploratory Data Analysis (EDA)"
      ],
      "metadata": {
        "id": "u_p3e32gr8Si"
      }
    },
    {
      "cell_type": "code",
      "source": [
        "df.describe()"
      ],
      "metadata": {
        "colab": {
          "base_uri": "https://localhost:8080/",
          "height": 367
        },
        "id": "mrSNk9KZr3TD",
        "outputId": "6e9e6baa-2c2f-4894-bddf-2944e83f8733"
      },
      "execution_count": null,
      "outputs": [
        {
          "output_type": "execute_result",
          "data": {
            "text/plain": [
              "        diagnosis  radius_mean  texture_mean  perimeter_mean    area_mean  \\\n",
              "count  569.000000   569.000000    569.000000      569.000000   569.000000   \n",
              "mean     0.372583    14.127292     19.289649       91.969033   654.889104   \n",
              "std      0.483918     3.524049      4.301036       24.298981   351.914129   \n",
              "min      0.000000     6.981000      9.710000       43.790000   143.500000   \n",
              "25%      0.000000    11.700000     16.170000       75.170000   420.300000   \n",
              "50%      0.000000    13.370000     18.840000       86.240000   551.100000   \n",
              "75%      1.000000    15.780000     21.800000      104.100000   782.700000   \n",
              "max      1.000000    28.110000     39.280000      188.500000  2501.000000   \n",
              "\n",
              "       smoothness_mean  compactness_mean  concavity_mean  concave points_mean  \\\n",
              "count       569.000000        569.000000      569.000000           569.000000   \n",
              "mean          0.096360          0.104341        0.088799             0.048919   \n",
              "std           0.014064          0.052813        0.079720             0.038803   \n",
              "min           0.052630          0.019380        0.000000             0.000000   \n",
              "25%           0.086370          0.064920        0.029560             0.020310   \n",
              "50%           0.095870          0.092630        0.061540             0.033500   \n",
              "75%           0.105300          0.130400        0.130700             0.074000   \n",
              "max           0.163400          0.345400        0.426800             0.201200   \n",
              "\n",
              "       symmetry_mean  ...  radius_worst  texture_worst  perimeter_worst  \\\n",
              "count     569.000000  ...    569.000000     569.000000       569.000000   \n",
              "mean        0.181162  ...     16.269190      25.677223       107.261213   \n",
              "std         0.027414  ...      4.833242       6.146258        33.602542   \n",
              "min         0.106000  ...      7.930000      12.020000        50.410000   \n",
              "25%         0.161900  ...     13.010000      21.080000        84.110000   \n",
              "50%         0.179200  ...     14.970000      25.410000        97.660000   \n",
              "75%         0.195700  ...     18.790000      29.720000       125.400000   \n",
              "max         0.304000  ...     36.040000      49.540000       251.200000   \n",
              "\n",
              "        area_worst  smoothness_worst  compactness_worst  concavity_worst  \\\n",
              "count   569.000000        569.000000         569.000000       569.000000   \n",
              "mean    880.583128          0.132369           0.254265         0.272188   \n",
              "std     569.356993          0.022832           0.157336         0.208624   \n",
              "min     185.200000          0.071170           0.027290         0.000000   \n",
              "25%     515.300000          0.116600           0.147200         0.114500   \n",
              "50%     686.500000          0.131300           0.211900         0.226700   \n",
              "75%    1084.000000          0.146000           0.339100         0.382900   \n",
              "max    4254.000000          0.222600           1.058000         1.252000   \n",
              "\n",
              "       concave points_worst  symmetry_worst  fractal_dimension_worst  \n",
              "count            569.000000      569.000000               569.000000  \n",
              "mean               0.114606        0.290076                 0.083946  \n",
              "std                0.065732        0.061867                 0.018061  \n",
              "min                0.000000        0.156500                 0.055040  \n",
              "25%                0.064930        0.250400                 0.071460  \n",
              "50%                0.099930        0.282200                 0.080040  \n",
              "75%                0.161400        0.317900                 0.092080  \n",
              "max                0.291000        0.663800                 0.207500  \n",
              "\n",
              "[8 rows x 31 columns]"
            ],
            "text/html": [
              "\n",
              "  <div id=\"df-a73d9be2-bcf3-4e23-b732-ce227c469514\" class=\"colab-df-container\">\n",
              "    <div>\n",
              "<style scoped>\n",
              "    .dataframe tbody tr th:only-of-type {\n",
              "        vertical-align: middle;\n",
              "    }\n",
              "\n",
              "    .dataframe tbody tr th {\n",
              "        vertical-align: top;\n",
              "    }\n",
              "\n",
              "    .dataframe thead th {\n",
              "        text-align: right;\n",
              "    }\n",
              "</style>\n",
              "<table border=\"1\" class=\"dataframe\">\n",
              "  <thead>\n",
              "    <tr style=\"text-align: right;\">\n",
              "      <th></th>\n",
              "      <th>diagnosis</th>\n",
              "      <th>radius_mean</th>\n",
              "      <th>texture_mean</th>\n",
              "      <th>perimeter_mean</th>\n",
              "      <th>area_mean</th>\n",
              "      <th>smoothness_mean</th>\n",
              "      <th>compactness_mean</th>\n",
              "      <th>concavity_mean</th>\n",
              "      <th>concave points_mean</th>\n",
              "      <th>symmetry_mean</th>\n",
              "      <th>...</th>\n",
              "      <th>radius_worst</th>\n",
              "      <th>texture_worst</th>\n",
              "      <th>perimeter_worst</th>\n",
              "      <th>area_worst</th>\n",
              "      <th>smoothness_worst</th>\n",
              "      <th>compactness_worst</th>\n",
              "      <th>concavity_worst</th>\n",
              "      <th>concave points_worst</th>\n",
              "      <th>symmetry_worst</th>\n",
              "      <th>fractal_dimension_worst</th>\n",
              "    </tr>\n",
              "  </thead>\n",
              "  <tbody>\n",
              "    <tr>\n",
              "      <th>count</th>\n",
              "      <td>569.000000</td>\n",
              "      <td>569.000000</td>\n",
              "      <td>569.000000</td>\n",
              "      <td>569.000000</td>\n",
              "      <td>569.000000</td>\n",
              "      <td>569.000000</td>\n",
              "      <td>569.000000</td>\n",
              "      <td>569.000000</td>\n",
              "      <td>569.000000</td>\n",
              "      <td>569.000000</td>\n",
              "      <td>...</td>\n",
              "      <td>569.000000</td>\n",
              "      <td>569.000000</td>\n",
              "      <td>569.000000</td>\n",
              "      <td>569.000000</td>\n",
              "      <td>569.000000</td>\n",
              "      <td>569.000000</td>\n",
              "      <td>569.000000</td>\n",
              "      <td>569.000000</td>\n",
              "      <td>569.000000</td>\n",
              "      <td>569.000000</td>\n",
              "    </tr>\n",
              "    <tr>\n",
              "      <th>mean</th>\n",
              "      <td>0.372583</td>\n",
              "      <td>14.127292</td>\n",
              "      <td>19.289649</td>\n",
              "      <td>91.969033</td>\n",
              "      <td>654.889104</td>\n",
              "      <td>0.096360</td>\n",
              "      <td>0.104341</td>\n",
              "      <td>0.088799</td>\n",
              "      <td>0.048919</td>\n",
              "      <td>0.181162</td>\n",
              "      <td>...</td>\n",
              "      <td>16.269190</td>\n",
              "      <td>25.677223</td>\n",
              "      <td>107.261213</td>\n",
              "      <td>880.583128</td>\n",
              "      <td>0.132369</td>\n",
              "      <td>0.254265</td>\n",
              "      <td>0.272188</td>\n",
              "      <td>0.114606</td>\n",
              "      <td>0.290076</td>\n",
              "      <td>0.083946</td>\n",
              "    </tr>\n",
              "    <tr>\n",
              "      <th>std</th>\n",
              "      <td>0.483918</td>\n",
              "      <td>3.524049</td>\n",
              "      <td>4.301036</td>\n",
              "      <td>24.298981</td>\n",
              "      <td>351.914129</td>\n",
              "      <td>0.014064</td>\n",
              "      <td>0.052813</td>\n",
              "      <td>0.079720</td>\n",
              "      <td>0.038803</td>\n",
              "      <td>0.027414</td>\n",
              "      <td>...</td>\n",
              "      <td>4.833242</td>\n",
              "      <td>6.146258</td>\n",
              "      <td>33.602542</td>\n",
              "      <td>569.356993</td>\n",
              "      <td>0.022832</td>\n",
              "      <td>0.157336</td>\n",
              "      <td>0.208624</td>\n",
              "      <td>0.065732</td>\n",
              "      <td>0.061867</td>\n",
              "      <td>0.018061</td>\n",
              "    </tr>\n",
              "    <tr>\n",
              "      <th>min</th>\n",
              "      <td>0.000000</td>\n",
              "      <td>6.981000</td>\n",
              "      <td>9.710000</td>\n",
              "      <td>43.790000</td>\n",
              "      <td>143.500000</td>\n",
              "      <td>0.052630</td>\n",
              "      <td>0.019380</td>\n",
              "      <td>0.000000</td>\n",
              "      <td>0.000000</td>\n",
              "      <td>0.106000</td>\n",
              "      <td>...</td>\n",
              "      <td>7.930000</td>\n",
              "      <td>12.020000</td>\n",
              "      <td>50.410000</td>\n",
              "      <td>185.200000</td>\n",
              "      <td>0.071170</td>\n",
              "      <td>0.027290</td>\n",
              "      <td>0.000000</td>\n",
              "      <td>0.000000</td>\n",
              "      <td>0.156500</td>\n",
              "      <td>0.055040</td>\n",
              "    </tr>\n",
              "    <tr>\n",
              "      <th>25%</th>\n",
              "      <td>0.000000</td>\n",
              "      <td>11.700000</td>\n",
              "      <td>16.170000</td>\n",
              "      <td>75.170000</td>\n",
              "      <td>420.300000</td>\n",
              "      <td>0.086370</td>\n",
              "      <td>0.064920</td>\n",
              "      <td>0.029560</td>\n",
              "      <td>0.020310</td>\n",
              "      <td>0.161900</td>\n",
              "      <td>...</td>\n",
              "      <td>13.010000</td>\n",
              "      <td>21.080000</td>\n",
              "      <td>84.110000</td>\n",
              "      <td>515.300000</td>\n",
              "      <td>0.116600</td>\n",
              "      <td>0.147200</td>\n",
              "      <td>0.114500</td>\n",
              "      <td>0.064930</td>\n",
              "      <td>0.250400</td>\n",
              "      <td>0.071460</td>\n",
              "    </tr>\n",
              "    <tr>\n",
              "      <th>50%</th>\n",
              "      <td>0.000000</td>\n",
              "      <td>13.370000</td>\n",
              "      <td>18.840000</td>\n",
              "      <td>86.240000</td>\n",
              "      <td>551.100000</td>\n",
              "      <td>0.095870</td>\n",
              "      <td>0.092630</td>\n",
              "      <td>0.061540</td>\n",
              "      <td>0.033500</td>\n",
              "      <td>0.179200</td>\n",
              "      <td>...</td>\n",
              "      <td>14.970000</td>\n",
              "      <td>25.410000</td>\n",
              "      <td>97.660000</td>\n",
              "      <td>686.500000</td>\n",
              "      <td>0.131300</td>\n",
              "      <td>0.211900</td>\n",
              "      <td>0.226700</td>\n",
              "      <td>0.099930</td>\n",
              "      <td>0.282200</td>\n",
              "      <td>0.080040</td>\n",
              "    </tr>\n",
              "    <tr>\n",
              "      <th>75%</th>\n",
              "      <td>1.000000</td>\n",
              "      <td>15.780000</td>\n",
              "      <td>21.800000</td>\n",
              "      <td>104.100000</td>\n",
              "      <td>782.700000</td>\n",
              "      <td>0.105300</td>\n",
              "      <td>0.130400</td>\n",
              "      <td>0.130700</td>\n",
              "      <td>0.074000</td>\n",
              "      <td>0.195700</td>\n",
              "      <td>...</td>\n",
              "      <td>18.790000</td>\n",
              "      <td>29.720000</td>\n",
              "      <td>125.400000</td>\n",
              "      <td>1084.000000</td>\n",
              "      <td>0.146000</td>\n",
              "      <td>0.339100</td>\n",
              "      <td>0.382900</td>\n",
              "      <td>0.161400</td>\n",
              "      <td>0.317900</td>\n",
              "      <td>0.092080</td>\n",
              "    </tr>\n",
              "    <tr>\n",
              "      <th>max</th>\n",
              "      <td>1.000000</td>\n",
              "      <td>28.110000</td>\n",
              "      <td>39.280000</td>\n",
              "      <td>188.500000</td>\n",
              "      <td>2501.000000</td>\n",
              "      <td>0.163400</td>\n",
              "      <td>0.345400</td>\n",
              "      <td>0.426800</td>\n",
              "      <td>0.201200</td>\n",
              "      <td>0.304000</td>\n",
              "      <td>...</td>\n",
              "      <td>36.040000</td>\n",
              "      <td>49.540000</td>\n",
              "      <td>251.200000</td>\n",
              "      <td>4254.000000</td>\n",
              "      <td>0.222600</td>\n",
              "      <td>1.058000</td>\n",
              "      <td>1.252000</td>\n",
              "      <td>0.291000</td>\n",
              "      <td>0.663800</td>\n",
              "      <td>0.207500</td>\n",
              "    </tr>\n",
              "  </tbody>\n",
              "</table>\n",
              "<p>8 rows × 31 columns</p>\n",
              "</div>\n",
              "    <div class=\"colab-df-buttons\">\n",
              "\n",
              "  <div class=\"colab-df-container\">\n",
              "    <button class=\"colab-df-convert\" onclick=\"convertToInteractive('df-a73d9be2-bcf3-4e23-b732-ce227c469514')\"\n",
              "            title=\"Convert this dataframe to an interactive table.\"\n",
              "            style=\"display:none;\">\n",
              "\n",
              "  <svg xmlns=\"http://www.w3.org/2000/svg\" height=\"24px\" viewBox=\"0 -960 960 960\">\n",
              "    <path d=\"M120-120v-720h720v720H120Zm60-500h600v-160H180v160Zm220 220h160v-160H400v160Zm0 220h160v-160H400v160ZM180-400h160v-160H180v160Zm440 0h160v-160H620v160ZM180-180h160v-160H180v160Zm440 0h160v-160H620v160Z\"/>\n",
              "  </svg>\n",
              "    </button>\n",
              "\n",
              "  <style>\n",
              "    .colab-df-container {\n",
              "      display:flex;\n",
              "      gap: 12px;\n",
              "    }\n",
              "\n",
              "    .colab-df-convert {\n",
              "      background-color: #E8F0FE;\n",
              "      border: none;\n",
              "      border-radius: 50%;\n",
              "      cursor: pointer;\n",
              "      display: none;\n",
              "      fill: #1967D2;\n",
              "      height: 32px;\n",
              "      padding: 0 0 0 0;\n",
              "      width: 32px;\n",
              "    }\n",
              "\n",
              "    .colab-df-convert:hover {\n",
              "      background-color: #E2EBFA;\n",
              "      box-shadow: 0px 1px 2px rgba(60, 64, 67, 0.3), 0px 1px 3px 1px rgba(60, 64, 67, 0.15);\n",
              "      fill: #174EA6;\n",
              "    }\n",
              "\n",
              "    .colab-df-buttons div {\n",
              "      margin-bottom: 4px;\n",
              "    }\n",
              "\n",
              "    [theme=dark] .colab-df-convert {\n",
              "      background-color: #3B4455;\n",
              "      fill: #D2E3FC;\n",
              "    }\n",
              "\n",
              "    [theme=dark] .colab-df-convert:hover {\n",
              "      background-color: #434B5C;\n",
              "      box-shadow: 0px 1px 3px 1px rgba(0, 0, 0, 0.15);\n",
              "      filter: drop-shadow(0px 1px 2px rgba(0, 0, 0, 0.3));\n",
              "      fill: #FFFFFF;\n",
              "    }\n",
              "  </style>\n",
              "\n",
              "    <script>\n",
              "      const buttonEl =\n",
              "        document.querySelector('#df-a73d9be2-bcf3-4e23-b732-ce227c469514 button.colab-df-convert');\n",
              "      buttonEl.style.display =\n",
              "        google.colab.kernel.accessAllowed ? 'block' : 'none';\n",
              "\n",
              "      async function convertToInteractive(key) {\n",
              "        const element = document.querySelector('#df-a73d9be2-bcf3-4e23-b732-ce227c469514');\n",
              "        const dataTable =\n",
              "          await google.colab.kernel.invokeFunction('convertToInteractive',\n",
              "                                                    [key], {});\n",
              "        if (!dataTable) return;\n",
              "\n",
              "        const docLinkHtml = 'Like what you see? Visit the ' +\n",
              "          '<a target=\"_blank\" href=https://colab.research.google.com/notebooks/data_table.ipynb>data table notebook</a>'\n",
              "          + ' to learn more about interactive tables.';\n",
              "        element.innerHTML = '';\n",
              "        dataTable['output_type'] = 'display_data';\n",
              "        await google.colab.output.renderOutput(dataTable, element);\n",
              "        const docLink = document.createElement('div');\n",
              "        docLink.innerHTML = docLinkHtml;\n",
              "        element.appendChild(docLink);\n",
              "      }\n",
              "    </script>\n",
              "  </div>\n",
              "\n",
              "\n",
              "<div id=\"df-98ed345e-c9e5-45b8-aafa-95f57587a132\">\n",
              "  <button class=\"colab-df-quickchart\" onclick=\"quickchart('df-98ed345e-c9e5-45b8-aafa-95f57587a132')\"\n",
              "            title=\"Suggest charts\"\n",
              "            style=\"display:none;\">\n",
              "\n",
              "<svg xmlns=\"http://www.w3.org/2000/svg\" height=\"24px\"viewBox=\"0 0 24 24\"\n",
              "     width=\"24px\">\n",
              "    <g>\n",
              "        <path d=\"M19 3H5c-1.1 0-2 .9-2 2v14c0 1.1.9 2 2 2h14c1.1 0 2-.9 2-2V5c0-1.1-.9-2-2-2zM9 17H7v-7h2v7zm4 0h-2V7h2v10zm4 0h-2v-4h2v4z\"/>\n",
              "    </g>\n",
              "</svg>\n",
              "  </button>\n",
              "\n",
              "<style>\n",
              "  .colab-df-quickchart {\n",
              "      --bg-color: #E8F0FE;\n",
              "      --fill-color: #1967D2;\n",
              "      --hover-bg-color: #E2EBFA;\n",
              "      --hover-fill-color: #174EA6;\n",
              "      --disabled-fill-color: #AAA;\n",
              "      --disabled-bg-color: #DDD;\n",
              "  }\n",
              "\n",
              "  [theme=dark] .colab-df-quickchart {\n",
              "      --bg-color: #3B4455;\n",
              "      --fill-color: #D2E3FC;\n",
              "      --hover-bg-color: #434B5C;\n",
              "      --hover-fill-color: #FFFFFF;\n",
              "      --disabled-bg-color: #3B4455;\n",
              "      --disabled-fill-color: #666;\n",
              "  }\n",
              "\n",
              "  .colab-df-quickchart {\n",
              "    background-color: var(--bg-color);\n",
              "    border: none;\n",
              "    border-radius: 50%;\n",
              "    cursor: pointer;\n",
              "    display: none;\n",
              "    fill: var(--fill-color);\n",
              "    height: 32px;\n",
              "    padding: 0;\n",
              "    width: 32px;\n",
              "  }\n",
              "\n",
              "  .colab-df-quickchart:hover {\n",
              "    background-color: var(--hover-bg-color);\n",
              "    box-shadow: 0 1px 2px rgba(60, 64, 67, 0.3), 0 1px 3px 1px rgba(60, 64, 67, 0.15);\n",
              "    fill: var(--button-hover-fill-color);\n",
              "  }\n",
              "\n",
              "  .colab-df-quickchart-complete:disabled,\n",
              "  .colab-df-quickchart-complete:disabled:hover {\n",
              "    background-color: var(--disabled-bg-color);\n",
              "    fill: var(--disabled-fill-color);\n",
              "    box-shadow: none;\n",
              "  }\n",
              "\n",
              "  .colab-df-spinner {\n",
              "    border: 2px solid var(--fill-color);\n",
              "    border-color: transparent;\n",
              "    border-bottom-color: var(--fill-color);\n",
              "    animation:\n",
              "      spin 1s steps(1) infinite;\n",
              "  }\n",
              "\n",
              "  @keyframes spin {\n",
              "    0% {\n",
              "      border-color: transparent;\n",
              "      border-bottom-color: var(--fill-color);\n",
              "      border-left-color: var(--fill-color);\n",
              "    }\n",
              "    20% {\n",
              "      border-color: transparent;\n",
              "      border-left-color: var(--fill-color);\n",
              "      border-top-color: var(--fill-color);\n",
              "    }\n",
              "    30% {\n",
              "      border-color: transparent;\n",
              "      border-left-color: var(--fill-color);\n",
              "      border-top-color: var(--fill-color);\n",
              "      border-right-color: var(--fill-color);\n",
              "    }\n",
              "    40% {\n",
              "      border-color: transparent;\n",
              "      border-right-color: var(--fill-color);\n",
              "      border-top-color: var(--fill-color);\n",
              "    }\n",
              "    60% {\n",
              "      border-color: transparent;\n",
              "      border-right-color: var(--fill-color);\n",
              "    }\n",
              "    80% {\n",
              "      border-color: transparent;\n",
              "      border-right-color: var(--fill-color);\n",
              "      border-bottom-color: var(--fill-color);\n",
              "    }\n",
              "    90% {\n",
              "      border-color: transparent;\n",
              "      border-bottom-color: var(--fill-color);\n",
              "    }\n",
              "  }\n",
              "</style>\n",
              "\n",
              "  <script>\n",
              "    async function quickchart(key) {\n",
              "      const quickchartButtonEl =\n",
              "        document.querySelector('#' + key + ' button');\n",
              "      quickchartButtonEl.disabled = true;  // To prevent multiple clicks.\n",
              "      quickchartButtonEl.classList.add('colab-df-spinner');\n",
              "      try {\n",
              "        const charts = await google.colab.kernel.invokeFunction(\n",
              "            'suggestCharts', [key], {});\n",
              "      } catch (error) {\n",
              "        console.error('Error during call to suggestCharts:', error);\n",
              "      }\n",
              "      quickchartButtonEl.classList.remove('colab-df-spinner');\n",
              "      quickchartButtonEl.classList.add('colab-df-quickchart-complete');\n",
              "    }\n",
              "    (() => {\n",
              "      let quickchartButtonEl =\n",
              "        document.querySelector('#df-98ed345e-c9e5-45b8-aafa-95f57587a132 button');\n",
              "      quickchartButtonEl.style.display =\n",
              "        google.colab.kernel.accessAllowed ? 'block' : 'none';\n",
              "    })();\n",
              "  </script>\n",
              "</div>\n",
              "    </div>\n",
              "  </div>\n"
            ],
            "application/vnd.google.colaboratory.intrinsic+json": {
              "type": "dataframe"
            }
          },
          "metadata": {},
          "execution_count": 6
        }
      ]
    },
    {
      "cell_type": "code",
      "source": [
        "# Visualizing Diagnosis Distribution\n",
        "plt.hist(df['diagnosis'])\n",
        "plt.title('Diagnosis (M=1 , B=0)')\n",
        "plt.show()"
      ],
      "metadata": {
        "colab": {
          "base_uri": "https://localhost:8080/",
          "height": 452
        },
        "id": "4j1yZHpesDDO",
        "outputId": "396812c8-7b88-4ab6-d9dc-8527be9bb5e5"
      },
      "execution_count": null,
      "outputs": [
        {
          "output_type": "display_data",
          "data": {
            "text/plain": [
              "<Figure size 640x480 with 1 Axes>"
            ],
            "image/png": "[encoded data removed]"
          },
          "metadata": {}
        }
      ]
    },
    {
      "cell_type": "markdown",
      "source": [
        "the count of malignant vs. benign cases."
      ],
      "metadata": {
        "id": "HENtU-Iss6gr"
      }
    },
    {
      "cell_type": "code",
      "source": [
        "# Feature-wise Data Distribution\n",
        "features_mean = list(df.columns[1:11])\n",
        "dfM = df[df['diagnosis'] == 1]\n",
        "dfB = df[df['diagnosis'] == 0]\n",
        "\n",
        "fig, axes = plt.subplots(nrows=5, ncols=2, figsize=(8,10))\n",
        "axes = axes.ravel()\n",
        "for idx, ax in enumerate(axes):\n",
        "    ax.figure\n",
        "    binwidth = (max(df[features_mean[idx]]) - min(df[features_mean[idx]])) / 50\n",
        "    ax.hist([dfM[features_mean[idx]], dfB[features_mean[idx]]],\n",
        "            bins=np.arange(min(df[features_mean[idx]]), max(df[features_mean[idx]]) + binwidth, binwidth),\n",
        "            alpha=0.5, stacked=True, density=True, label=['M', 'B'], color=['r','g'])\n",
        "    ax.legend(loc='upper right')\n",
        "    ax.set_title(features_mean[idx])\n",
        "plt.tight_layout()\n",
        "plt.show()\n"
      ],
      "metadata": {
        "colab": {
          "base_uri": "https://localhost:8080/",
          "height": 1000
        },
        "id": "NPSgo9bQsfm5",
        "outputId": "ffcb29d2-ff99-4fdf-e227-708dcc67e75e"
      },
      "execution_count": null,
      "outputs": [
        {
          "output_type": "display_data",
          "data": {
            "text/plain": [
              "<Figure size 800x1000 with 10 Axes>"
            ],
            "image/png": "[encoded data removed]"
          },
          "metadata": {}
        }
      ]
    },
    {
      "cell_type": "markdown",
      "source": [
        "Creates stacked histograms showing distribution of features for benign & malignant cases.\n",
        "Helps identify patterns or features that differentiate the two classes."
      ],
      "metadata": {
        "id": "cMgT0-T4tQ3b"
      }
    },
    {
      "cell_type": "markdown",
      "source": [
        "# Step4: Data Preprocessing"
      ],
      "metadata": {
        "id": "Afgk65LFvblY"
      }
    },
    {
      "cell_type": "code",
      "source": [
        "# Train-Test Split\n",
        "X = df.loc[:, df.columns != 'diagnosis']\n",
        "y = df.iloc[:, :1]\n",
        "\n",
        "X_train, X_test, y_train, y_test = train_test_split(X, y, test_size=0.2, random_state=41, shuffle=True)"
      ],
      "metadata": {
        "id": "ZobU088QtIOM"
      },
      "execution_count": null,
      "outputs": []
    },
    {
      "cell_type": "code",
      "source": [
        "print(\"Unique samples in Train set:\", len(set(map(tuple, X_train.to_numpy()))))\n",
        "print(\"Unique samples in Test set:\", len(set(map(tuple, X_test.to_numpy()))))\n"
      ],
      "metadata": {
        "colab": {
          "base_uri": "https://localhost:8080/"
        },
        "id": "XDArP_fkEqOE",
        "outputId": "5a620ac3-a4ad-43c3-8115-ca59abc4ca9e"
      },
      "execution_count": null,
      "outputs": [
        {
          "output_type": "stream",
          "name": "stdout",
          "text": [
            "Unique samples in Train set: 455\n",
            "Unique samples in Test set: 114\n"
          ]
        }
      ]
    },
    {
      "cell_type": "code",
      "source": [
        "from imblearn.over_sampling import SMOTE\n",
        "\n",
        "sm = SMOTE(sampling_strategy=0.7, random_state=42)\n",
        "X_res, y_res = sm.fit_resample(X_train, y_train)\n",
        "\n",
        "import seaborn as sns\n",
        "import matplotlib.pyplot as plt\n",
        "\n",
        "plt.figure(figsize=(8,6))\n",
        "sns.histplot(y_res, kde=False, bins=3)\n",
        "plt.title(\"Class Distribution in Training Data After Adjusted SMOTE\")\n",
        "plt.xlabel(\"Class\")\n",
        "plt.ylabel(\"Count\")\n",
        "plt.show()\n"
      ],
      "metadata": {
        "colab": {
          "base_uri": "https://localhost:8080/",
          "height": 564
        },
        "id": "0lKNSIueyBlT",
        "outputId": "02932933-d25e-4c0f-b1a9-efec8a8e0351"
      },
      "execution_count": null,
      "outputs": [
        {
          "output_type": "display_data",
          "data": {
            "text/plain": [
              "<Figure size 800x600 with 1 Axes>"
            ],
            "image/png": "[encoded data removed]"
          },
          "metadata": {}
        }
      ]
    },
    {
      "cell_type": "markdown",
      "source": [
        "# Step5: Model Evaluation Function"
      ],
      "metadata": {
        "id": "I1SHeGf8wByH"
      }
    },
    {
      "cell_type": "code",
      "source": [
        "def evaluate_model(model, X_test, y_test):\n",
        "    y_pred = model.predict(X_test)\n",
        "    acc = metrics.accuracy_score(y_test, y_pred)\n",
        "    prec = metrics.precision_score(y_test, y_pred)\n",
        "    rec = metrics.recall_score(y_test, y_pred)\n",
        "    f1 = metrics.f1_score(y_test, y_pred)\n",
        "    kappa = metrics.cohen_kappa_score(y_test, y_pred)\n",
        "    y_pred_proba = model.predict_proba(X_test)[:,1]\n",
        "    fpr, tpr, _ = metrics.roc_curve(y_test, y_pred_proba)\n",
        "    auc = metrics.roc_auc_score(y_test, y_pred_proba)\n",
        "    cm = metrics.confusion_matrix(y_test, y_pred)\n",
        "\n",
        "    return {'acc': acc, 'prec': prec, 'rec': rec, 'f1': f1, 'kappa': kappa,\n",
        "            'fpr': fpr, 'tpr': tpr, 'auc': auc, 'cm': cm}\n"
      ],
      "metadata": {
        "id": "8rZqG1WGvpc3"
      },
      "execution_count": null,
      "outputs": []
    },
    {
      "cell_type": "markdown",
      "source": [
        "#Step6: Machine Learning Models"
      ],
      "metadata": {
        "id": "Kym_Jj-IwI8-"
      }
    },
    {
      "cell_type": "markdown",
      "source": [
        "Decision Tree"
      ],
      "metadata": {
        "id": "SFOLrFkNwOJH"
      }
    },
    {
      "cell_type": "code",
      "source": [
        "from sklearn import tree\n",
        "\n",
        "def sklearn_eval(X_train, y_train):\n",
        "    dtc = tree.DecisionTreeClassifier(random_state=0)\n",
        "\n",
        "    dtc.fit(X_train, y_train)\n",
        "    dtc_eval = evaluate_model(dtc, X_test, y_test)\n",
        "    # Print result\n",
        "    print(\"...........\")\n",
        "    print(\"Results of Decision Tree test data: \")\n",
        "    print('Accuracy:', dtc_eval['acc'])\n",
        "    print('Precision:', dtc_eval['prec'])\n",
        "    print('Recall:', dtc_eval['rec'])\n",
        "    print('F1 Score:', dtc_eval['f1'])\n",
        "    print('Cohens Kappa Score:', dtc_eval['kappa'])\n",
        "    print('Area Under Curve:', dtc_eval['auc'])\n",
        "    print('Confusion Matrix:\\n', dtc_eval['cm'])\n",
        "\n",
        "\n",
        "    return dtc\n",
        "dtc = sklearn_eval(X_train, y_train)"
      ],
      "metadata": {
        "colab": {
          "base_uri": "https://localhost:8080/"
        },
        "id": "NJ8brZb7wGaf",
        "outputId": "b3b6da20-74b7-4813-e2a7-5a78f356b285"
      },
      "execution_count": null,
      "outputs": [
        {
          "output_type": "stream",
          "name": "stdout",
          "text": [
            "...........\n",
            "Results of Decision Tree test data: \n",
            "Accuracy: 0.9385964912280702\n",
            "Precision: 0.8837209302325582\n",
            "Recall: 0.95\n",
            "F1 Score: 0.9156626506024096\n",
            "Cohens Kappa Score: 0.8674858850880106\n",
            "Area Under Curve: 0.9412162162162162\n",
            "Confusion Matrix:\n",
            " [[69  5]\n",
            " [ 2 38]]\n"
          ]
        }
      ]
    },
    {
      "cell_type": "markdown",
      "source": [
        "Random Forest"
      ],
      "metadata": {
        "id": "kLfR0MmywS4G"
      }
    },
    {
      "cell_type": "markdown",
      "source": [],
      "metadata": {
        "id": "3BtloF3CGHU6"
      }
    },
    {
      "cell_type": "code",
      "source": [
        "def randomforest_eval(X_train, y_train):\n",
        "    rf_clf = RandomForestClassifier(n_estimators=20, max_depth=5, random_state=42, criterion='entropy')\n",
        "    rf_clf.fit(X_train, y_train)\n",
        "    rf_eval = evaluate_model(rf_clf, X_test, y_test)\n",
        "    print(\"...........\")\n",
        "    print(\"Results of Radom Forest Test data: \")\n",
        "    print('Accuracy:', rf_eval['acc'])\n",
        "    print('Precision:', rf_eval['prec'])\n",
        "    print('Recall:', rf_eval['rec'])\n",
        "    print('F1 Score:', rf_eval['f1'])\n",
        "    print('Cohens Kappa Score:', rf_eval['kappa'])\n",
        "    print('Area Under Curve:', rf_eval['auc'])\n",
        "    print('Confusion Matrix:\\n', rf_eval['cm'])\n",
        "\n",
        "    return rf_clf\n",
        "rf_clf = randomforest_eval(X_train, y_train)"
      ],
      "metadata": {
        "colab": {
          "base_uri": "https://localhost:8080/"
        },
        "id": "ni8XJOEewSZt",
        "outputId": "a20bce48-f2eb-4d93-ce5b-07146718588e"
      },
      "execution_count": null,
      "outputs": [
        {
          "output_type": "stream",
          "name": "stderr",
          "text": [
            "/usr/local/lib/python3.11/dist-packages/sklearn/base.py:1389: DataConversionWarning: A column-vector y was passed when a 1d array was expected. Please change the shape of y to (n_samples,), for example using ravel().\n",
            "  return fit_method(estimator, *args, **kwargs)\n"
          ]
        },
        {
          "output_type": "stream",
          "name": "stdout",
          "text": [
            "...........\n",
            "Results of Radom Forest Test data: \n",
            "Accuracy: 0.9824561403508771\n",
            "Precision: 0.9523809523809523\n",
            "Recall: 1.0\n",
            "F1 Score: 0.975609756097561\n",
            "Cohens Kappa Score: 0.9619238476953907\n",
            "Area Under Curve: 0.9991554054054055\n",
            "Confusion Matrix:\n",
            " [[72  2]\n",
            " [ 0 40]]\n"
          ]
        }
      ]
    },
    {
      "cell_type": "markdown",
      "source": [
        "Naïve Bayes"
      ],
      "metadata": {
        "id": "F6jJzfyXwa6H"
      }
    },
    {
      "cell_type": "code",
      "source": [
        "from sklearn.ensemble import ExtraTreesClassifier\n",
        "\n",
        "def extra_trees_eval(X_train, y_train):\n",
        "    et_clf = ExtraTreesClassifier(\n",
        "    n_estimators=10,\n",
        "    max_depth=5,\n",
        "    min_samples_split=5,\n",
        "    min_samples_leaf=2,\n",
        "    max_features=0.7,\n",
        "    random_state=42\n",
        ")\n",
        "    et_clf.fit(X_train, y_train)\n",
        "    et_eval = evaluate_model(et_clf, X_test, y_test)\n",
        "\n",
        "\n",
        "    print(\"...........\")\n",
        "    print(\"Results of Extra Trees Test data: \")\n",
        "    print('Accuracy:', et_eval['acc'])\n",
        "    print('Precision:', et_eval['prec'])\n",
        "    print('Recall:', et_eval['rec'])\n",
        "    print('F1 Score:', et_eval['f1'])\n",
        "    print('Cohens Kappa Score:', et_eval['kappa'])\n",
        "    print('Area Under Curve:', et_eval['auc'])\n",
        "    print('Confusion Matrix:\\n', et_eval['cm'])\n",
        "\n",
        "    return et_clf\n",
        "\n",
        "\n",
        "et_clf = extra_trees_eval(X_train, y_train)\n"
      ],
      "metadata": {
        "colab": {
          "base_uri": "https://localhost:8080/"
        },
        "id": "LrOBVKbhu6VN",
        "outputId": "5254e182-85d5-49a7-936c-efa6f7229ac5"
      },
      "execution_count": null,
      "outputs": [
        {
          "output_type": "stream",
          "name": "stdout",
          "text": [
            "...........\n",
            "Results of Extra Trees Test data: \n",
            "Accuracy: 0.9912280701754386\n",
            "Precision: 0.975609756097561\n",
            "Recall: 1.0\n",
            "F1 Score: 0.9876543209876543\n",
            "Cohens Kappa Score: 0.9808532079274437\n",
            "Area Under Curve: 1.0\n",
            "Confusion Matrix:\n",
            " [[73  1]\n",
            " [ 0 40]]\n"
          ]
        },
        {
          "output_type": "stream",
          "name": "stderr",
          "text": [
            "/usr/local/lib/python3.11/dist-packages/sklearn/base.py:1389: DataConversionWarning: A column-vector y was passed when a 1d array was expected. Please change the shape of y to (n_samples,), for example using ravel().\n",
            "  return fit_method(estimator, *args, **kwargs)\n"
          ]
        }
      ]
    },
    {
      "cell_type": "code",
      "source": [
        "train_acc = metrics.accuracy_score(y_train, et_clf.predict(X_train))\n",
        "test_acc = metrics.accuracy_score(y_test, et_clf.predict(X_test))\n",
        "\n",
        "print(\"Train Accuracy (Extra Trees):\", train_acc)\n",
        "print(\"Test Accuracy (Extra Trees):\", test_acc)"
      ],
      "metadata": {
        "colab": {
          "base_uri": "https://localhost:8080/"
        },
        "id": "gUxar2fQ0pC0",
        "outputId": "ff5ec6e4-ddfc-476f-ebf4-2a8ca31924ed"
      },
      "execution_count": null,
      "outputs": [
        {
          "output_type": "stream",
          "name": "stdout",
          "text": [
            "Train Accuracy (Extra Trees): 0.9758241758241758\n",
            "Test Accuracy (Extra Trees): 0.9912280701754386\n"
          ]
        }
      ]
    },
    {
      "cell_type": "code",
      "source": [
        "def naivebayes_eval(X_train, y_train):\n",
        "    naive_bayes = GaussianNB()\n",
        "    naive_bayes.fit(X_train , y_train)\n",
        "    naive_eval = evaluate_model(naive_bayes, X_test, y_test)\n",
        "    print(\"...........\")\n",
        "    print(\"Results of Naive Bayes Test data: \")\n",
        "    print('Accuracy:', naive_eval['acc'])\n",
        "    print('Precision:', naive_eval['prec'])\n",
        "    print('Recall:', naive_eval['rec'])\n",
        "    print('F1 Score:', naive_eval['f1'])\n",
        "    print('Cohens Kappa Score:', naive_eval['kappa'])\n",
        "    print('Area Under Curve:', naive_eval['auc'])\n",
        "    print('Confusion Matrix:\\n', naive_eval['cm'])\n",
        "\n",
        "    return naive_bayes\n",
        "naive_bayes = naivebayes_eval(X_train, y_train)"
      ],
      "metadata": {
        "colab": {
          "base_uri": "https://localhost:8080/"
        },
        "id": "geVZhM9pwPlO",
        "outputId": "53135e52-e939-4af8-b6e9-0a234dc0ceb6"
      },
      "execution_count": null,
      "outputs": [
        {
          "output_type": "stream",
          "name": "stdout",
          "text": [
            "...........\n",
            "Results of Naive Bayes Test data: \n",
            "Accuracy: 0.9649122807017544\n",
            "Precision: 0.95\n",
            "Recall: 0.95\n",
            "F1 Score: 0.95\n",
            "Cohens Kappa Score: 0.922972972972973\n",
            "Area Under Curve: 0.9962837837837838\n",
            "Confusion Matrix:\n",
            " [[72  2]\n",
            " [ 2 38]]\n"
          ]
        },
        {
          "output_type": "stream",
          "name": "stderr",
          "text": [
            "/usr/local/lib/python3.11/dist-packages/sklearn/utils/validation.py:1408: DataConversionWarning: A column-vector y was passed when a 1d array was expected. Please change the shape of y to (n_samples, ), for example using ravel().\n",
            "  y = column_or_1d(y, warn=True)\n"
          ]
        }
      ]
    },
    {
      "cell_type": "markdown",
      "source": [
        "AdaBoost"
      ],
      "metadata": {
        "id": "xrHof6YRwdEn"
      }
    },
    {
      "cell_type": "code",
      "source": [
        "def adaboost(X_train, y_train):\n",
        "    abc = AdaBoostClassifier(n_estimators=5, learning_rate=0.5, random_state=42)\n",
        "    ada_boost = abc.fit(X_train, y_train)\n",
        "    ada_beval = evaluate_model(ada_boost, X_test, y_test)\n",
        "    print(\"...........\")\n",
        "    print(\"Results of Adaboost Test data: \")\n",
        "    print('Accuracy:', ada_beval['acc'])\n",
        "    print('Precision:', ada_beval['prec'])\n",
        "    print('Recall:', ada_beval['rec'])\n",
        "    print('F1 Score:', ada_beval['f1'])\n",
        "    print('Cohens Kappa Score:', ada_beval['kappa'])\n",
        "    print('Area Under Curve:', ada_beval['auc'])\n",
        "    print('Confusion Matrix:\\n', ada_beval['cm'])\n",
        "\n",
        "    return ada_boost\n",
        "ada_boost = adaboost(X_train, y_train)"
      ],
      "metadata": {
        "colab": {
          "base_uri": "https://localhost:8080/"
        },
        "id": "vYdc8_Xmwclp",
        "outputId": "0ec6b5cf-5fdb-4af5-a4bc-11bb36490516"
      },
      "execution_count": null,
      "outputs": [
        {
          "output_type": "stream",
          "name": "stderr",
          "text": [
            "/usr/local/lib/python3.11/dist-packages/sklearn/utils/validation.py:1408: DataConversionWarning: A column-vector y was passed when a 1d array was expected. Please change the shape of y to (n_samples, ), for example using ravel().\n",
            "  y = column_or_1d(y, warn=True)\n"
          ]
        },
        {
          "output_type": "stream",
          "name": "stdout",
          "text": [
            "...........\n",
            "Results of Adaboost Test data: \n",
            "Accuracy: 0.956140350877193\n",
            "Precision: 0.8888888888888888\n",
            "Recall: 1.0\n",
            "F1 Score: 0.9411764705882353\n",
            "Cohens Kappa Score: 0.9064039408866995\n",
            "Area Under Curve: 0.9925675675675677\n",
            "Confusion Matrix:\n",
            " [[69  5]\n",
            " [ 0 40]]\n"
          ]
        }
      ]
    },
    {
      "cell_type": "code",
      "source": [
        "train_acc = metrics.accuracy_score(y_train, ada_boost.predict(X_train))\n",
        "test_acc = metrics.accuracy_score(y_test, ada_boost.predict(X_test))\n",
        "\n",
        "print(\"Train Accuracy (Adaboost):\", train_acc)\n",
        "print(\"Test Accuracy (Adaboost):\", test_acc)"
      ],
      "metadata": {
        "colab": {
          "base_uri": "https://localhost:8080/"
        },
        "id": "xxH5U4igwigp",
        "outputId": "2fa3e291-73b9-4dba-d63d-0e46901f0a5b"
      },
      "execution_count": null,
      "outputs": [
        {
          "output_type": "stream",
          "name": "stdout",
          "text": [
            "Train Accuracy (Adaboost): 0.967032967032967\n",
            "Test Accuracy (Adaboost): 0.956140350877193\n"
          ]
        }
      ]
    },
    {
      "cell_type": "code",
      "source": [
        "from imblearn.ensemble import BalancedBaggingClassifier\n",
        "from sklearn.tree import DecisionTreeClassifier\n",
        "from sklearn import metrics\n",
        "\n",
        "# Class Balancement\n",
        "bbc = BalancedBaggingClassifier(\n",
        "    estimator=DecisionTreeClassifier(),\n",
        "    n_estimators=10, max_samples=0.7,\n",
        "    max_features=0.7,\n",
        "    sampling_strategy='auto',\n",
        "    replacement=False,\n",
        "    random_state=42\n",
        ")\n",
        "\n",
        "\n",
        "bbc.fit(X_train, y_train.values.ravel())\n",
        "\n",
        "\n",
        "train_acc = metrics.accuracy_score(y_train, bbc.predict(X_train))\n",
        "test_acc = metrics.accuracy_score(y_test, bbc.predict(X_test))\n",
        "\n",
        "print(\"Train Accuracy (Balanced Bagging):\", train_acc)\n",
        "print(\"Test Accuracy (Balanced Bagging):\", test_acc)\n"
      ],
      "metadata": {
        "colab": {
          "base_uri": "https://localhost:8080/"
        },
        "id": "unIJf3FBxgt6",
        "outputId": "3f35d88e-f9d4-4679-cd5a-10f2dbdad2d2"
      },
      "execution_count": null,
      "outputs": [
        {
          "output_type": "stream",
          "name": "stdout",
          "text": [
            "Train Accuracy (Balanced Bagging): 0.9824175824175824\n",
            "Test Accuracy (Balanced Bagging): 0.9736842105263158\n"
          ]
        }
      ]
    },
    {
      "cell_type": "markdown",
      "source": [
        "#Step7: Bootstrapping for Bagging (Ensemble Learning)"
      ],
      "metadata": {
        "id": "mDLnGZeXwjjI"
      }
    },
    {
      "cell_type": "code",
      "source": [
        "from scipy.stats import mode\n",
        "\n",
        "def majority_voting(X_test):\n",
        "    pred_dt = dtc.predict(X_test)\n",
        "    pred_rf = rf_clf.predict(X_test)\n",
        "    pred_nb = naive_bayes.predict(X_test)\n",
        "    pred_ada = ada_boost.predict(X_test)\n",
        "    pred_et = et_clf.predict(X_test)\n",
        "    pred_bbc= bbc.predict(X_test)\n",
        "\n",
        "\n",
        "    predictions = np.array([pred_dt, pred_rf, pred_nb, pred_ada, pred_et])\n",
        "\n",
        "    print(\"All Predictions Matrix Shape:\", predictions.shape)\n",
        "    print(\"Predictions Matrix:\", predictions)\n",
        "\n",
        "\n",
        "    final_predictions = mode(predictions, axis=0).mode\n",
        "\n",
        "\n",
        "    final_predictions = np.squeeze(final_predictions)\n",
        "\n",
        "    print(\"Final Predictions after Voting:\", final_predictions)\n",
        "\n",
        "    return final_predictions\n"
      ],
      "metadata": {
        "id": "8wjZRFqxCBWi"
      },
      "execution_count": null,
      "outputs": []
    },
    {
      "cell_type": "code",
      "source": [
        "final_preds = majority_voting(X_test)\n",
        "final_accuracy = metrics.accuracy_score(y_test, final_preds)\n",
        "print(\"Final Ensemble Model Accuracy:\", final_accuracy)\n"
      ],
      "metadata": {
        "colab": {
          "base_uri": "https://localhost:8080/"
        },
        "id": "MMmpqsOZENdg",
        "outputId": "29d3130e-3b50-48c5-f4df-466964d55a5a"
      },
      "execution_count": null,
      "outputs": [
        {
          "output_type": "stream",
          "name": "stdout",
          "text": [
            "All Predictions Matrix Shape: (5, 114)\n",
            "Predictions Matrix: [[0 1 0 0 0 0 1 1 1 0 1 1 1 0 0 0 0 0 0 0 1 0 0 0 0 0 0 0 0 0 1 0 0 0 0 0\n",
            "  1 0 1 0 0 1 0 1 0 0 0 0 0 1 0 0 1 1 0 0 1 0 0 0 0 1 1 1 0 0 1 1 0 0 1 1\n",
            "  0 0 1 0 1 0 0 0 0 1 0 1 1 0 1 0 1 0 1 0 0 1 1 1 1 0 1 0 1 1 1 0 0 1 0 0\n",
            "  1 0 0 1 0 0]\n",
            " [0 0 0 0 0 0 1 1 1 0 1 1 1 0 0 0 0 0 0 0 1 0 0 0 0 0 0 0 0 0 1 0 0 0 0 0\n",
            "  1 0 1 0 0 1 0 1 0 0 0 0 0 1 0 0 1 1 0 0 0 0 0 0 0 0 1 1 1 0 1 1 1 0 1 1\n",
            "  0 0 1 0 1 1 0 0 0 1 0 1 1 0 1 0 1 0 1 0 0 1 1 1 1 0 1 0 1 1 1 0 0 1 0 0\n",
            "  1 0 0 0 0 0]\n",
            " [0 0 1 0 0 0 1 1 1 0 1 1 1 0 0 0 0 0 0 0 1 0 0 0 0 0 0 0 0 0 1 0 0 0 0 0\n",
            "  1 0 1 0 0 1 0 1 0 0 0 1 0 1 0 0 0 1 0 0 0 0 0 0 0 0 1 1 0 0 1 1 0 0 1 1\n",
            "  0 0 1 0 1 1 0 0 0 0 0 1 1 0 1 0 1 0 1 0 0 1 1 1 1 0 1 0 1 1 1 0 0 1 0 0\n",
            "  1 0 0 0 0 0]\n",
            " [0 0 1 0 0 0 1 1 1 0 1 1 1 0 0 0 0 0 0 0 1 0 0 0 0 0 0 0 0 0 1 0 0 0 0 0\n",
            "  1 0 1 0 0 1 0 1 0 0 0 1 0 1 0 0 0 1 0 0 0 0 0 0 0 1 1 1 1 0 1 1 1 0 1 1\n",
            "  0 0 1 0 1 1 0 0 0 1 0 1 1 0 1 0 1 0 1 0 0 1 1 1 1 0 1 0 1 1 1 0 0 1 0 0\n",
            "  1 0 0 1 0 0]\n",
            " [0 0 1 0 0 0 1 1 1 0 1 1 1 0 0 0 0 0 0 0 1 0 0 0 0 0 0 0 0 0 1 0 0 0 0 0\n",
            "  1 0 1 0 0 1 0 1 0 0 0 0 0 1 0 0 0 1 0 0 0 0 0 0 0 0 1 1 0 0 1 1 1 0 1 1\n",
            "  0 0 1 0 1 1 0 0 0 1 0 1 1 0 1 0 1 0 1 0 0 1 1 1 1 0 1 0 1 1 1 0 0 1 0 0\n",
            "  1 0 0 0 0 0]]\n",
            "Final Predictions after Voting: [0 0 1 0 0 0 1 1 1 0 1 1 1 0 0 0 0 0 0 0 1 0 0 0 0 0 0 0 0 0 1 0 0 0 0 0 1\n",
            " 0 1 0 0 1 0 1 0 0 0 0 0 1 0 0 0 1 0 0 0 0 0 0 0 0 1 1 0 0 1 1 1 0 1 1 0 0\n",
            " 1 0 1 1 0 0 0 1 0 1 1 0 1 0 1 0 1 0 0 1 1 1 1 0 1 0 1 1 1 0 0 1 0 0 1 0 0\n",
            " 0 0 0]\n",
            "Final Ensemble Model Accuracy: 0.9912280701754386\n"
          ]
        }
      ]
    }
  ]
}